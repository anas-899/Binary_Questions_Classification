{
 "cells": [
  {
   "cell_type": "code",
   "execution_count": 1,
   "metadata": {
    "colab": {},
    "colab_type": "code",
    "id": "hmA6EzkQJ5jt"
   },
   "outputs": [],
   "source": [
    "import json\n",
    "import tensorflow as tf\n",
    "import random\n",
    "import numpy as np\n",
    "import pandas as pd\n",
    "\n",
    "from tensorflow.keras.preprocessing.text import Tokenizer\n",
    "from tensorflow.keras.preprocessing.sequence import pad_sequences\n",
    "from tensorflow.keras.utils import to_categorical\n",
    "from tensorflow.keras import regularizers"
   ]
  },
  {
   "cell_type": "markdown",
   "metadata": {},
   "source": [
    "# Hyperparameters"
   ]
  },
  {
   "cell_type": "code",
   "execution_count": 86,
   "metadata": {},
   "outputs": [],
   "source": [
    "max_length = 32\n",
    "embedding_dim = 300\n",
    "num_epochs = 6\n",
    "batch_size = 512\n",
    "\n",
    "trunc_type='post'\n",
    "padding_type='post'\n",
    "oov_tok = \"<OOV>\"\n",
    "val_portion=.05"
   ]
  },
  {
   "cell_type": "markdown",
   "metadata": {},
   "source": [
    "# Training/Validation data preparation"
   ]
  },
  {
   "cell_type": "code",
   "execution_count": 4,
   "metadata": {
    "colab": {
     "base_uri": "https://localhost:8080/",
     "height": 204
    },
    "colab_type": "code",
    "id": "bM0l_dORKqE0",
    "outputId": "491ba86b-f780-4355-a4be-765565a29c8c"
   },
   "outputs": [],
   "source": [
    "corpus = []\n",
    "\n",
    "train_pd = pd.read_csv(\"../train.csv\").fillna(' ')\n",
    "\n",
    "train_text = train_pd['question_text']\n",
    "labels_text = train_pd['target']\n",
    "\n",
    "list_item = list(zip(train_text,labels_text))\n",
    "num_sentences = len(list_item)\n",
    "corpus = list_item"
   ]
  },
  {
   "cell_type": "code",
   "execution_count": 5,
   "metadata": {
    "colab": {
     "base_uri": "https://localhost:8080/",
     "height": 68
    },
    "colab_type": "code",
    "id": "3kxblBUjEUX-",
    "outputId": "3c0227a2-e74b-4d9b-cabb-f9ee150571b1"
   },
   "outputs": [
    {
     "name": "stdout",
     "output_type": "stream",
     "text": [
      "1306122\n",
      "1306122\n",
      "('Do you have an adopted dog, how would you encourage people to adopt and not shop?', 0)\n"
     ]
    }
   ],
   "source": [
    "print(num_sentences)\n",
    "print(len(corpus))\n",
    "print(corpus[1])"
   ]
  },
  {
   "cell_type": "code",
   "execution_count": 6,
   "metadata": {
    "colab": {},
    "colab_type": "code",
    "id": "ohOGz24lsNAD"
   },
   "outputs": [],
   "source": [
    "training_size = len(corpus)\n",
    "\n",
    "sentences=[]\n",
    "labels=[]\n",
    "random.shuffle(corpus)\n",
    "for x in range(training_size):\n",
    "    sentences.append(corpus[x][0])\n",
    "    labels.append(corpus[x][1])\n",
    "\n",
    "tokenizer = Tokenizer()\n",
    "tokenizer.fit_on_texts(sentences)\n",
    "\n",
    "word_index = tokenizer.word_index\n",
    "vocab_size=len(word_index)\n",
    "\n",
    "sequences = tokenizer.texts_to_sequences(sentences)\n",
    "padded = pad_sequences(sequences, maxlen=max_length, padding=padding_type, truncating=trunc_type)\n",
    "\n",
    "split = int(val_portion * training_size)\n",
    "\n",
    "val_sequences = padded[0:split]\n",
    "training_sequences = padded[split:training_size]\n",
    "val_labels = labels[0:split]\n",
    "training_labels = labels[split:training_size]"
   ]
  },
  {
   "cell_type": "code",
   "execution_count": 7,
   "metadata": {
    "colab": {
     "base_uri": "https://localhost:8080/",
     "height": 51
    },
    "colab_type": "code",
    "id": "gIrtRem1En3N",
    "outputId": "4ad8401c-8dba-420d-8aee-38dac0b0839a"
   },
   "outputs": [
    {
     "name": "stdout",
     "output_type": "stream",
     "text": [
      "222161\n",
      "1\n"
     ]
    }
   ],
   "source": [
    "print(vocab_size)\n",
    "print(word_index['the'])"
   ]
  },
  {
   "cell_type": "markdown",
   "metadata": {},
   "source": [
    "# Loading glove pretrained weights matrix"
   ]
  },
  {
   "cell_type": "code",
   "execution_count": 8,
   "metadata": {
    "colab": {
     "base_uri": "https://localhost:8080/",
     "height": 204
    },
    "colab_type": "code",
    "id": "C1zdgJkusRh0",
    "outputId": "b6edd322-8191-45e7-cb12-08921685a72f"
   },
   "outputs": [],
   "source": [
    "glove_txt_path = \"../embeddings/glove.840B.300d/glove.840B.300d.txt\"\n",
    "\n",
    "embeddings_index = {};\n",
    "with open(glove_txt_path, encoding=\"utf-8\") as f:\n",
    "    for line in f:\n",
    "        values = line.split();\n",
    "        \n",
    "        if len(values) != 301:\n",
    "            continue\n",
    "        \n",
    "        word = values[0];\n",
    "        coefs = np.asarray(values[1:], dtype='float32');\n",
    "        embeddings_index[word] = coefs;"
   ]
  },
  {
   "cell_type": "code",
   "execution_count": 9,
   "metadata": {},
   "outputs": [],
   "source": [
    "embeddings_matrix = np.zeros((vocab_size+1, embedding_dim));\n",
    "for word, i in word_index.items():\n",
    "    embedding_vector = embeddings_index.get(word);\n",
    "    if embedding_vector is not None:\n",
    "        embeddings_matrix[i] = embedding_vector;"
   ]
  },
  {
   "cell_type": "code",
   "execution_count": 10,
   "metadata": {
    "colab": {
     "base_uri": "https://localhost:8080/",
     "height": 34
    },
    "colab_type": "code",
    "id": "71NLk_lpFLNt",
    "outputId": "97cb88db-754f-4375-fdc3-876cd6b4fdce"
   },
   "outputs": [
    {
     "name": "stdout",
     "output_type": "stream",
     "text": [
      "222162\n"
     ]
    }
   ],
   "source": [
    "print(len(embeddings_matrix))"
   ]
  },
  {
   "cell_type": "markdown",
   "metadata": {},
   "source": [
    "# Model"
   ]
  },
  {
   "cell_type": "code",
   "execution_count": 11,
   "metadata": {
    "colab": {},
    "colab_type": "code",
    "id": "iKKvbuEBOGFz"
   },
   "outputs": [
    {
     "name": "stdout",
     "output_type": "stream",
     "text": [
      "_________________________________________________________________\n",
      "Layer (type)                 Output Shape              Param #   \n",
      "=================================================================\n",
      "embedding (Embedding)        (None, 32, 300)           66648600  \n",
      "_________________________________________________________________\n",
      "dropout (Dropout)            (None, 32, 300)           0         \n",
      "_________________________________________________________________\n",
      "conv1d (Conv1D)              (None, 28, 64)            96064     \n",
      "_________________________________________________________________\n",
      "max_pooling1d (MaxPooling1D) (None, 7, 64)             0         \n",
      "_________________________________________________________________\n",
      "lstm (LSTM)                  (None, 64)                33024     \n",
      "_________________________________________________________________\n",
      "dense (Dense)                (None, 1)                 65        \n",
      "=================================================================\n",
      "Total params: 66,777,753\n",
      "Trainable params: 129,153\n",
      "Non-trainable params: 66,648,600\n",
      "_________________________________________________________________\n"
     ]
    }
   ],
   "source": [
    "model = tf.keras.Sequential([\n",
    "    tf.keras.layers.Embedding(vocab_size+1, embedding_dim, input_length=max_length, weights=[embeddings_matrix], trainable=False),\n",
    "    tf.keras.layers.Dropout(0.2),\n",
    "    tf.keras.layers.Conv1D(64, 5, activation='relu'),\n",
    "    tf.keras.layers.MaxPooling1D(pool_size=4),\n",
    "    tf.keras.layers.LSTM(64),\n",
    "    tf.keras.layers.Dense(1, activation='sigmoid')\n",
    "])\n",
    "model.compile(loss='binary_crossentropy',optimizer='adam',metrics=['accuracy'])\n",
    "model.summary()"
   ]
  },
  {
   "cell_type": "code",
   "execution_count": 87,
   "metadata": {},
   "outputs": [
    {
     "name": "stdout",
     "output_type": "stream",
     "text": [
      "Train on 1240816 samples, validate on 65306 samples\n",
      "Epoch 1/6\n",
      "1240816/1240816 [==============================] - 72s 58us/step - loss: 0.0982 - acc: 0.9606 - val_loss: 0.1058 - val_acc: 0.9585\n",
      "Epoch 2/6\n",
      "1240816/1240816 [==============================] - 71s 57us/step - loss: 0.0965 - acc: 0.9612 - val_loss: 0.1051 - val_acc: 0.9594\n",
      "Epoch 3/6\n",
      "1240816/1240816 [==============================] - 73s 59us/step - loss: 0.0946 - acc: 0.9618 - val_loss: 0.1071 - val_acc: 0.9583\n",
      "Epoch 4/6\n",
      "1240816/1240816 [==============================] - 71s 58us/step - loss: 0.0932 - acc: 0.9624 - val_loss: 0.1053 - val_acc: 0.9592\n",
      "Epoch 5/6\n",
      "1240816/1240816 [==============================] - 71s 57us/step - loss: 0.0920 - acc: 0.9628 - val_loss: 0.1059 - val_acc: 0.9596\n",
      "Epoch 6/6\n",
      "1240816/1240816 [==============================] - 71s 57us/step - loss: 0.0909 - acc: 0.9631 - val_loss: 0.1071 - val_acc: 0.9586\n",
      "Training Complete\n"
     ]
    }
   ],
   "source": [
    "training_step = len(training_labels)//batch_size\n",
    "validation_step = len(val_labels)//batch_size\n",
    "\n",
    "history = model.fit(training_sequences, \n",
    "                    training_labels, \n",
    "                    epochs=num_epochs, \n",
    "                    batch_size=batch_size,\n",
    "                    validation_data=(val_sequences, val_labels), \n",
    "                    verbose=1)\n",
    "\n",
    "model.save(\"model.h5\")\n",
    "model.save_weights(\"weights.h5\")\n",
    "model_str = model.to_json()\n",
    "f = open(\"model_json.json\", \"w\")\n",
    "f.write(model_str)\n",
    "f.close()\n",
    "\n",
    "print(\"Training Complete\")"
   ]
  },
  {
   "cell_type": "code",
   "execution_count": null,
   "metadata": {},
   "outputs": [],
   "source": [
    "from keras.models import load_model\n",
    "from keras.models import model_from_json\n",
    "\n",
    "#model = load_model(\"model.h5\")\n",
    "json_file = open('model_json.json', 'r')\n",
    "loaded_model_json = json_file.read()\n",
    "json_file.close()\n",
    "model = model_from_json(loaded_model_json)\n",
    "model.load_weights(\"weights.h5\")"
   ]
  },
  {
   "cell_type": "markdown",
   "metadata": {},
   "source": [
    "# Drawing Accuracy & Loss"
   ]
  },
  {
   "cell_type": "code",
   "execution_count": 89,
   "metadata": {
    "colab": {},
    "colab_type": "code",
    "id": "qxju4ItJKO8F"
   },
   "outputs": [
    {
     "data": {
      "image/png": "[encoded data removed]",
      "text/plain": [
       "<matplotlib.figure.Figure at 0x211b10eea20>"
      ]
     },
     "metadata": {},
     "output_type": "display_data"
    },
    {
     "data": {
      "image/png": "[encoded data removed]",
      "text/plain": [
       "<matplotlib.figure.Figure at 0x211b0c55588>"
      ]
     },
     "metadata": {},
     "output_type": "display_data"
    },
    {
     "data": {
      "text/plain": [
       "<matplotlib.figure.Figure at 0x211b10c2da0>"
      ]
     },
     "metadata": {},
     "output_type": "display_data"
    }
   ],
   "source": [
    "import matplotlib.image  as mpimg\n",
    "import matplotlib.pyplot as plt\n",
    "%matplotlib inline\n",
    "\n",
    "#-----------------------------------------------------------\n",
    "# Retrieve a list of list results on training and test data\n",
    "# sets for each training epoch\n",
    "#-----------------------------------------------------------\n",
    "acc=history.history['acc']\n",
    "val_acc=history.history['val_acc']\n",
    "loss=history.history['loss']\n",
    "val_loss=history.history['val_loss']\n",
    "\n",
    "epochs=range(len(acc)) # Get number of epochs\n",
    "\n",
    "#------------------------------------------------\n",
    "# Plot training and validation accuracy per epoch\n",
    "#------------------------------------------------\n",
    "plt.plot(epochs, acc, 'r')\n",
    "plt.plot(epochs, val_acc, 'b')\n",
    "plt.title('Training and validation accuracy')\n",
    "plt.xlabel(\"Epochs\")\n",
    "plt.ylabel(\"Accuracy\")\n",
    "plt.legend([\"Accuracy\", \"Validation Accuracy\"])\n",
    "\n",
    "plt.figure()\n",
    "\n",
    "#------------------------------------------------\n",
    "# Plot training and validation loss per epoch\n",
    "#------------------------------------------------\n",
    "plt.plot(epochs, loss, 'r')\n",
    "plt.plot(epochs, val_loss, 'b')\n",
    "plt.title('Training and validation loss')\n",
    "plt.xlabel(\"Epochs\")\n",
    "plt.ylabel(\"Loss\")\n",
    "plt.legend([\"Loss\", \"Validation Loss\"])\n",
    "\n",
    "plt.figure()\n",
    "plt.show()\n",
    "\n",
    "# Expected Output\n",
    "# A chart where the validation loss does not increase sharply!"
   ]
  },
  {
   "cell_type": "markdown",
   "metadata": {},
   "source": [
    "# Detection of best threshold "
   ]
  },
  {
   "cell_type": "code",
   "execution_count": 90,
   "metadata": {},
   "outputs": [],
   "source": [
    "def get_best_thresh(predictions, labels):\n",
    "    max_pred = max(predictions)\n",
    "    min_pred = min(predictions)\n",
    "    print(min_pred, max_pred)\n",
    "    \n",
    "    thresholds = np.linspace(min_pred, max_pred, num=20, endpoint=False)\n",
    "    thresholds = np.around(thresholds, decimals=2)\n",
    "    \n",
    "    max_count = 0\n",
    "    best_thresh = 0\n",
    "\n",
    "    print(\"total count: \", len(predictions))\n",
    "    for thresh in thresholds:\n",
    "        int_labels = (predictions>thresh).astype(int)\n",
    "        boolarr = int_labels == np.array(labels).reshape(len(labels), 1)\n",
    "        count_true = np.sum(boolarr)\n",
    "        print(\"thresh: \", thresh, \" count true: \", count_true)\n",
    "        if count_true > max_count:\n",
    "            max_count = count_true\n",
    "            best_thresh = thresh\n",
    "\n",
    "    print(\"best thresh: \", best_thresh)\n",
    "    return best_thresh"
   ]
  },
  {
   "cell_type": "code",
   "execution_count": 91,
   "metadata": {},
   "outputs": [
    {
     "name": "stdout",
     "output_type": "stream",
     "text": [
      "[3.3149074e-05] [0.97221667]\n",
      "total count:  65306\n",
      "thresh:  [0.]  count true:  4083\n",
      "thresh:  [0.05]  count true:  58450\n",
      "thresh:  [0.1]  count true:  60222\n",
      "thresh:  [0.15]  count true:  61028\n",
      "thresh:  [0.19]  count true:  61418\n",
      "thresh:  [0.24]  count true:  61781\n",
      "thresh:  [0.29]  count true:  62070\n",
      "thresh:  [0.34]  count true:  62238\n",
      "thresh:  [0.39]  count true:  62368\n",
      "thresh:  [0.44]  count true:  62508\n",
      "thresh:  [0.49]  count true:  62590\n",
      "thresh:  [0.53]  count true:  62632\n",
      "thresh:  [0.58]  count true:  62626\n",
      "thresh:  [0.63]  count true:  62600\n",
      "thresh:  [0.68]  count true:  62535\n",
      "thresh:  [0.73]  count true:  62449\n",
      "thresh:  [0.78]  count true:  62305\n",
      "thresh:  [0.83]  count true:  62058\n",
      "thresh:  [0.87]  count true:  61799\n",
      "thresh:  [0.92]  count true:  61422\n",
      "best thresh:  [0.53]\n"
     ]
    }
   ],
   "source": [
    "val_predictions = model.predict(val_sequences, batch_size=batch_size, verbose=2)\n",
    "best_val_thresh = get_best_thresh(val_predictions, val_labels)"
   ]
  },
  {
   "cell_type": "code",
   "execution_count": 92,
   "metadata": {},
   "outputs": [
    {
     "name": "stdout",
     "output_type": "stream",
     "text": [
      "count Insincere questions for best_thresh:  2574\n",
      "count correct Insincere questions:  4083\n"
     ]
    }
   ],
   "source": [
    "val_int_labels = (val_predictions>best_val_thresh).astype(int)\n",
    "count_1_true = 0\n",
    "for i in range(len(val_int_labels)):\n",
    "    if (val_int_labels[i] == val_labels[i]) and (val_labels[i] == 1):\n",
    "        count_1_true += 1\n",
    "        \n",
    "print(\"count Insincere questions for best_thresh: \", count_1_true)\n",
    "print(\"count correct Insincere questions: \", np.sum(np.array(val_labels) == 1))"
   ]
  },
  {
   "cell_type": "markdown",
   "metadata": {},
   "source": [
    "# Prediction for test data"
   ]
  },
  {
   "cell_type": "code",
   "execution_count": 57,
   "metadata": {},
   "outputs": [],
   "source": [
    "test_pd = pd.read_csv(\"../test.csv\").fillna(' ')\n",
    "test_corpus = test_pd['question_text']\n",
    "\n",
    "test_sentences=[]\n",
    "for x in range(len(test_corpus)):\n",
    "    test_sentences.append(test_corpus[x][0])\n",
    "    \n",
    "sequences_test = tokenizer.texts_to_sequences(test_sentences)\n",
    "test_padded = pad_sequences(sequences_test, maxlen=max_length, padding=padding_type, truncating=trunc_type)\n",
    "\n",
    "submit_test_sequences = test_padded\n",
    "\n",
    "pred_prob = model.predict(submit_test_sequences, batch_size=batch_size, verbose=2)"
   ]
  },
  {
   "cell_type": "code",
   "execution_count": 97,
   "metadata": {},
   "outputs": [
    {
     "name": "stdout",
     "output_type": "stream",
     "text": [
      "[0.00712463] [0.5829487] [0.53]\n",
      "the threshold is 0.53 from the test pred range:  [0.30518675]\n"
     ]
    }
   ],
   "source": [
    "max_pred = max(pred_prob)\n",
    "min_pred = min(pred_prob)\n",
    "print(min_pred, max_pred, best_val_thresh)\n",
    "best_test_threshold = (max_pred - min_pred)*best_val_thresh\n",
    "print(\"the threshold is 0.53 from the test pred range: \", best_test_threshold)"
   ]
  },
  {
   "cell_type": "code",
   "execution_count": 98,
   "metadata": {},
   "outputs": [],
   "source": [
    "submission = pd.DataFrame.from_dict({'qid': test_pd['qid']})\n",
    "submission['prediction'] = (pred_prob>best_test_threshold).astype(int)\n",
    "submission.to_csv('submission.csv', index=False)"
   ]
  },
  {
   "cell_type": "markdown",
   "metadata": {},
   "source": [
    "# Visualization"
   ]
  },
  {
   "cell_type": "markdown",
   "metadata": {},
   "source": [
    "If you train an Embedding layer (here we didn't train. we use a pretrained 'glove' trainable=False)\n",
    "\n",
    "you can project these vectors and visualize them, it's nice to see\n",
    "\n",
    "you need two inputs: vecs.tsv and meta.tsv \n",
    "\n",
    "https://projector.tensorflow.org/"
   ]
  },
  {
   "cell_type": "code",
   "execution_count": 27,
   "metadata": {},
   "outputs": [
    {
     "name": "stdout",
     "output_type": "stream",
     "text": [
      "(222162, 300)\n"
     ]
    }
   ],
   "source": [
    "reverse_word_index = dict([(value, key) for (key, value) in word_index.items()])\n",
    "\n",
    "e = model.layers[0]\n",
    "weights = e.get_weights()[0]\n",
    "print(weights.shape) # shape: (vocab_size, embedding_dim)"
   ]
  },
  {
   "cell_type": "code",
   "execution_count": 28,
   "metadata": {},
   "outputs": [],
   "source": [
    "import io\n",
    "\n",
    "out_v = io.open('vecs.tsv', 'w', encoding='utf-8')\n",
    "out_m = io.open('meta.tsv', 'w', encoding='utf-8')\n",
    "for word_num in range(1, vocab_size):\n",
    "    word = reverse_word_index[word_num]\n",
    "    embeddings = weights[word_num]\n",
    "    out_m.write(word + \"\\n\")\n",
    "    out_v.write('\\t'.join([str(x) for x in embeddings]) + \"\\n\")\n",
    "out_v.close()\n",
    "out_m.close()"
   ]
  }
 ],
 "metadata": {
  "accelerator": "GPU",
  "colab": {
   "name": "NLP Course - Week 3 Exercise Answer.ipynb",
   "provenance": [],
   "version": "0.3.2"
  },
  "kernelspec": {
   "display_name": "Python 3",
   "language": "python",
   "name": "python3"
  },
  "language_info": {
   "codemirror_mode": {
    "name": "ipython",
    "version": 3
   },
   "file_extension": ".py",
   "mimetype": "text/x-python",
   "name": "python",
   "nbconvert_exporter": "python",
   "pygments_lexer": "ipython3",
   "version": "3.5.5"
  }
 },
 "nbformat": 4,
 "nbformat_minor": 1
}
